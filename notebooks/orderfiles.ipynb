{
 "cells": [
  {
   "cell_type": "code",
   "execution_count": 1,
   "metadata": {},
   "outputs": [],
   "source": [
    "import os"
   ]
  },
  {
   "cell_type": "code",
   "execution_count": null,
   "metadata": {},
   "outputs": [],
   "source": [
    "for directorio_raiz, directorios, archivos in os.walk(\"./audios_wav/\"):\n",
    "    print(\"Directorio:\", directorio_raiz)\n",
    "    # Recorrer los archivos en el directorio actual\n",
    "    for nombre_archivo, i in zip(archivos, range((len(archivos)), (len(archivos)*2))):\n",
    "        nombre = nombre_archivo[:-12]\n",
    "        os.rename(os.path.join(directorio_raiz, nombre_archivo), os.path.join(directorio_raiz, nombre+f\"{i}.wav\"))"
   ]
  },
  {
   "cell_type": "code",
   "execution_count": 64,
   "metadata": {},
   "outputs": [],
   "source": [
    "for directorio_raiz, directorios, archivos in os.walk(\"../data/GESTURES_VIDEO/sujeto 5/\"):\n",
    "    #print(\"Directorio:\", directorio_raiz)\n",
    "    # Recorrer los archivos en el directorio actual\n",
    "    for nombre_archivo, i in zip(archivos, range(0, len(archivos))):\n",
    "        extension = nombre_archivo[-4:]\n",
    "        clase = directorio_raiz[32:]\n",
    "        #print(i+1)\n",
    "        os.rename(os.path.join(directorio_raiz, nombre_archivo), os.path.join(\"../data/GESTURES_VIDEO/ABsamples/prueba/\", f\"Subject5_{clase}_sample{i+1}\"+extension))\n",
    "        #print(extension)"
   ]
  },
  {
   "cell_type": "code",
   "execution_count": 40,
   "metadata": {},
   "outputs": [],
   "source": [
    "estados = dir[0][1:] "
   ]
  },
  {
   "cell_type": "code",
   "execution_count": 61,
   "metadata": {},
   "outputs": [
    {
     "name": "stdout",
     "output_type": "stream",
     "text": [
      "Subject2_AGUASCALIENTES_sample1.MOV\n",
      "Subject2_AGUASCALIENTES_sample2.MOV\n",
      "Subject2_AGUASCALIENTES_sample3.MOV\n",
      "Subject2_BAJA CALIFORNIA SUR_sample1.MOV\n",
      "Subject2_BAJA CALIFORNIA SUR_sample2.MOV\n",
      "Subject2_BAJA CALIFORNIA SUR_sample3.MOV\n",
      "Subject2_BAJA CALIFORNIA_sample1.MOV\n",
      "Subject2_BAJA CALIFORNIA_sample2.MOV\n",
      "Subject2_BAJA CALIFORNIA_sample3.MOV\n",
      "Subject2_CAMPECHE_sample1.MOV\n",
      "Subject2_CAMPECHE_sample2.MOV\n",
      "Subject2_CAMPECHE_sample3.MOV\n",
      "Subject2_CHIAPAS_sample1.MOV\n",
      "Subject2_CHIAPAS_sample2.MOV\n",
      "Subject2_CHIAPAS_sample3.MOV\n",
      "Subject2_CHIHUAHUA_sample1.MOV\n",
      "Subject2_CHIHUAHUA_sample2.MOV\n",
      "Subject2_CHIHUAHUA_sample3.MOV\n",
      "Subject2_CIUDAD DE MEXICO_sample1.MOV\n",
      "Subject2_CIUDAD DE MEXICO_sample2.MOV\n",
      "Subject2_CIUDAD DE MEXICO_sample3.MOV\n",
      "Subject2_COAHUILA_sample1.MOV\n",
      "Subject2_COAHUILA_sample2.MOV\n",
      "Subject2_COAHUILA_sample3.MOV\n",
      "Subject2_COLIMA_sample1.MOV\n",
      "Subject2_COLIMA_sample2.MOV\n",
      "Subject2_COLIMA_sample3.MOV\n",
      "Subject2_DURANGO_sample1.MOV\n",
      "Subject2_DURANGO_sample2.MOV\n",
      "Subject2_DURANGO_sample3.MOV\n",
      "Subject2_ESTADO DE MEXICO_sample1.MOV\n",
      "Subject2_ESTADO DE MEXICO_sample2.MOV\n",
      "Subject2_ESTADO DE MEXICO_sample3.MOV\n",
      "Subject2_GUANAJUATO_sample1.MOV\n",
      "Subject2_GUANAJUATO_sample2.MOV\n",
      "Subject2_GUANAJUATO_sample3.MOV\n",
      "Subject2_GUERRERO_sample1.MOV\n",
      "Subject2_GUERRERO_sample2.MOV\n",
      "Subject2_GUERRERO_sample3.MOV\n",
      "Subject2_HIDALGO_sample1.MOV\n",
      "Subject2_HIDALGO_sample2.MOV\n",
      "Subject2_HIDALGO_sample3.MOV\n",
      "Subject2_JALISCO_sample1.MOV\n",
      "Subject2_JALISCO_sample2.MOV\n",
      "Subject2_JALISCO_sample3.MOV\n",
      "Subject2_MICHOACAN_sample1.MOV\n",
      "Subject2_MICHOACAN_sample2.MOV\n",
      "Subject2_MICHOACAN_sample3.MOV\n",
      "Subject2_MORELOS_sample1.MOV\n",
      "Subject2_MORELOS_sample2.MOV\n",
      "Subject2_MORELOS_sample3.MOV\n",
      "Subject2_NAYARIT_sample1.MOV\n",
      "Subject2_NAYARIT_sample2.MOV\n",
      "Subject2_NAYARIT_sample3.MOV\n",
      "Subject2_NUEVO LEON_sample1.MOV\n",
      "Subject2_NUEVO LEON_sample2.MOV\n",
      "Subject2_NUEVO LEON_sample3.MOV\n",
      "Subject2_OAXACA_sample1.MOV\n",
      "Subject2_OAXACA_sample2.MOV\n",
      "Subject2_OAXACA_sample3.MOV\n",
      "Subject2_PUEBLA_sample1.MOV\n",
      "Subject2_PUEBLA_sample2.MOV\n",
      "Subject2_PUEBLA_sample3.MOV\n",
      "Subject2_QUERETARO_sample1.MOV\n",
      "Subject2_QUERETARO_sample2.MOV\n",
      "Subject2_QUERETARO_sample3.MOV\n",
      "Subject2_QUINTANA ROO_sample1.MOV\n",
      "Subject2_QUINTANA ROO_sample2.MOV\n",
      "Subject2_QUINTANA ROO_sample3.MOV\n",
      "Subject2_SAN LUIS POTOSI_sample1.MOV\n",
      "Subject2_SAN LUIS POTOSI_sample2.MOV\n",
      "Subject2_SAN LUIS POTOSI_sample3.MOV\n",
      "Subject2_SINALOA_sample1.MOV\n",
      "Subject2_SINALOA_sample2.MOV\n",
      "Subject2_SINALOA_sample3.MOV\n",
      "Subject2_SONORA_sample1.MOV\n",
      "Subject2_SONORA_sample2.MOV\n",
      "Subject2_SONORA_sample3.MOV\n",
      "Subject2_TABASCO_sample1.MOV\n",
      "Subject2_TABASCO_sample2.MOV\n",
      "Subject2_TABASCO_sample3.MOV\n",
      "Subject2_TAMAULIPAS_sample1.MOV\n",
      "Subject2_TAMAULIPAS_sample2.MOV\n",
      "Subject2_TAMAULIPAS_sample3.MOV\n",
      "Subject2_TAMAULIPAS_sample4.MOV\n",
      "Subject2_TAMAULIPAS_sample5.MOV\n",
      "Subject2_TAMAULIPAS_sample6.MOV\n",
      "Subject2_VERACRUZ_sample1.MOV\n",
      "Subject2_VERACRUZ_sample2.MOV\n",
      "Subject2_VERACRUZ_sample3.MOV\n",
      "Subject2_YUCATAN_sample1.MOV\n",
      "Subject2_YUCATAN_sample2.MOV\n",
      "Subject2_YUCATAN_sample3.MOV\n",
      "Subject2_ZACATECAS_sample1.MOV\n",
      "Subject2_ZACATECAS_sample2.MOV\n",
      "Subject2_ZACATECAS_sample3.MOV\n"
     ]
    }
   ],
   "source": [
    "for directorio_raiz, directorios, archivos in os.walk(\"../data/GESTURES_VIDEO/ABsamples/prueba/\"):\n",
    "    for nombre_archivo, i in zip(archivos, range(0, len(archivos))):\n",
    "        change = nombre_archivo.replace(\"Subject1\",\"Subject2\")\n",
    "        print(change)\n",
    "        os.rename(os.path.join(directorio_raiz, nombre_archivo), os.path.join(directorio_raiz, change))"
   ]
  },
  {
   "cell_type": "code",
   "execution_count": null,
   "metadata": {},
   "outputs": [],
   "source": []
  }
 ],
 "metadata": {
  "kernelspec": {
   "display_name": "gesture",
   "language": "python",
   "name": "python3"
  },
  "language_info": {
   "codemirror_mode": {
    "name": "ipython",
    "version": 3
   },
   "file_extension": ".py",
   "mimetype": "text/x-python",
   "name": "python",
   "nbconvert_exporter": "python",
   "pygments_lexer": "ipython3",
   "version": "3.11.7"
  }
 },
 "nbformat": 4,
 "nbformat_minor": 2
}
