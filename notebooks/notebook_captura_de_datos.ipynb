{
 "cells": [
  {
   "cell_type": "markdown",
   "metadata": {},
   "source": [
    "# Recolección de datos"
   ]
  },
  {
   "cell_type": "code",
   "execution_count": 1,
   "metadata": {},
   "outputs": [],
   "source": [
    "import cv2 as cv\n",
    "import csv\n",
    "import copy\n",
    "import itertools\n",
    "import numpy as np\n",
    "import mediapipe as mp\n",
    "import os.path \n",
    "from os import walk"
   ]
  },
  {
   "cell_type": "code",
   "execution_count": 2,
   "metadata": {},
   "outputs": [],
   "source": [
    "mp_hands = mp.solutions.hands\n",
    "\n",
    "hands = mp_hands.Hands(\n",
    "    static_image_mode=False,\n",
    "    max_num_hands=2,\n",
    "    min_detection_confidence=0.2,\n",
    "    min_tracking_confidence=0.7,\n",
    ")\n",
    "os.chdir(\"../data/GESTURES_VIDEO\")"
   ]
  },
  {
   "cell_type": "markdown",
   "metadata": {},
   "source": [
    "## 2D"
   ]
  },
  {
   "cell_type": "code",
   "execution_count": 16,
   "metadata": {},
   "outputs": [],
   "source": [
    "def calc_landmark_list(image, landmarks):\n",
    "    image_width, image_height = image.shape[1], image.shape[0]\n",
    "\n",
    "    landmark_point = []\n",
    "\n",
    "    # Keypoint\n",
    "    for _, landmark in enumerate(landmarks.landmark):\n",
    "        landmark_x = min(int(landmark.x * image_width), image_width - 1)\n",
    "        landmark_y = min(int(landmark.y * image_height), image_height - 1)\n",
    "        # landmark_z = landmark.z\n",
    "\n",
    "        landmark_point.append([landmark_x, landmark_y])\n",
    "\n",
    "    return landmark_point"
   ]
  },
  {
   "cell_type": "code",
   "execution_count": 17,
   "metadata": {},
   "outputs": [],
   "source": [
    "def pre_process_landmark(landmark_list):\n",
    "    temp_landmark_list = copy.deepcopy(landmark_list)\n",
    "\n",
    "    # Convert to relative coordinates\n",
    "    base_x, base_y = 0, 0\n",
    "    for index, landmark_point in enumerate(temp_landmark_list):\n",
    "        if index == 0:\n",
    "            base_x, base_y = landmark_point[0], landmark_point[1]\n",
    "\n",
    "        temp_landmark_list[index][0] = temp_landmark_list[index][0] - base_x\n",
    "        temp_landmark_list[index][1] = temp_landmark_list[index][1] - base_y\n",
    "\n",
    "    # Convert to a one-dimensional list\n",
    "    temp_landmark_list = list(\n",
    "        itertools.chain.from_iterable(temp_landmark_list))\n",
    "\n",
    "    # Normalization\n",
    "    max_value = max(list(map(abs, temp_landmark_list)))\n",
    "\n",
    "    def normalize_(n):\n",
    "        return n / max_value\n",
    "\n",
    "    temp_landmark_list = list(map(normalize_, temp_landmark_list))\n",
    "\n",
    "    return temp_landmark_list"
   ]
  },
  {
   "cell_type": "code",
   "execution_count": 20,
   "metadata": {},
   "outputs": [],
   "source": [
    "def logging_csv(dirname,name, label, clase, landmark_list):\n",
    "    csv_path = f'../2d_DATA/{dirname}/{name}_{clase}.csv'\n",
    "    if os.path.isfile(csv_path):\n",
    "        with open(csv_path, 'a', newline=\"\") as f:\n",
    "            writer = csv.writer(f)\n",
    "            writer.writerow([clase, label, *landmark_list]) \n",
    "    else:\n",
    "        with open(csv_path, mode='w') as f:\n",
    "            writer = csv.writer(f)\n",
    "            columnas = [\"class\", \"hand\"]+[f'k{i}{axis}' for i in range(21) for axis in (\"x\", \"y\")]\n",
    "            writer.writerow(columnas)\n",
    "            writer.writerow([clase, label, *landmark_list])\n",
    "    return"
   ]
  },
  {
   "cell_type": "code",
   "execution_count": 21,
   "metadata": {},
   "outputs": [],
   "source": [
    "actualPath = os.getcwd()\n",
    "listdir = os.listdir(actualPath)\n",
    "w = walk(actualPath)\n",
    "for (dirpath, dirnames, filenames), i in zip(w, range(0, (len(listdir) + 1))):\n",
    "    for filename in filenames:\n",
    "        vid = cv.VideoCapture(dirpath +\"/\"+filename)\n",
    "        capturar = False\n",
    "        while True:\n",
    "            ret, frame = vid.read()\n",
    "            if not ret:\n",
    "                break\n",
    "            key = cv.waitKey(10)\n",
    "            if key == 27: #ESC\n",
    "                break\n",
    "            frame = cv.flip(frame, 1)\n",
    "            result = hands.process(frame)\n",
    "            if result.multi_hand_landmarks is not None:\n",
    "                for hand_landmarks, handeness in zip(result.multi_hand_landmarks, result.multi_handedness):\n",
    "                    landmark_list = calc_landmark_list(frame, hand_landmarks)\n",
    "                    pre_processed_landmark_list = pre_process_landmark(landmark_list)\n",
    "                    logging_csv(listdir[i-1],filename[:-4], handeness.classification[0].label, i-1, pre_processed_landmark_list)"
   ]
  },
  {
   "cell_type": "markdown",
   "metadata": {},
   "source": [
    "## 3D"
   ]
  },
  {
   "cell_type": "code",
   "execution_count": 3,
   "metadata": {},
   "outputs": [],
   "source": [
    "def calc_landmark_list(image, landmarks):\n",
    "    image_width, image_height = image.shape[1], image.shape[0]\n",
    "\n",
    "    landmark_point = []\n",
    "\n",
    "    # Keypoint\n",
    "    for _, landmark in enumerate(landmarks.landmark):\n",
    "        landmark_x = min(int(landmark.x * image_width), image_width - 1)\n",
    "        landmark_y = min(int(landmark.y * image_height), image_height - 1)\n",
    "        landmark_z = landmark.z\n",
    "\n",
    "        landmark_point.append([landmark_x, landmark_y, landmark_z])\n",
    "\n",
    "    return landmark_point"
   ]
  },
  {
   "cell_type": "code",
   "execution_count": 4,
   "metadata": {},
   "outputs": [],
   "source": [
    "def pre_process_landmark(landmark_list):\n",
    "    temp_landmark_list = copy.deepcopy(landmark_list)\n",
    "\n",
    "    # Convert to relative coordinates\n",
    "    base_x, base_y, base_z = 0, 0, 0\n",
    "    for index, landmark_point in enumerate(temp_landmark_list):\n",
    "        if index == 0:\n",
    "            base_x, base_y, base_z = landmark_point[0], landmark_point[1], landmark_point[2] \n",
    "\n",
    "        temp_landmark_list[index][0] = temp_landmark_list[index][0] - base_x\n",
    "        temp_landmark_list[index][1] = temp_landmark_list[index][1] - base_y\n",
    "        temp_landmark_list[index][2] = temp_landmark_list[index][2] - base_z\n",
    "\n",
    "    # Convert to a one-dimensional list\n",
    "    temp_landmark_list = list(\n",
    "        itertools.chain.from_iterable(temp_landmark_list))\n",
    "\n",
    "    # Normalization\n",
    "    max_value = max(list(map(abs, temp_landmark_list)))\n",
    "\n",
    "    def normalize_(n):\n",
    "        return n / max_value\n",
    "\n",
    "    temp_landmark_list = list(map(normalize_, temp_landmark_list))\n",
    "\n",
    "    return temp_landmark_list"
   ]
  },
  {
   "cell_type": "code",
   "execution_count": 14,
   "metadata": {},
   "outputs": [],
   "source": [
    "def logging_csv(dirname,name, label, clase, landmark_list):\n",
    "    csv_path = f'../3d_DATA/{dirname}/{name}_{clase}.csv'\n",
    "    if os.path.isfile(csv_path):\n",
    "        with open(csv_path, 'a', newline=\"\") as f:\n",
    "            writer = csv.writer(f)\n",
    "            writer.writerow([clase, label, *landmark_list]) \n",
    "    else:\n",
    "        with open(csv_path, mode='w') as f:\n",
    "            writer = csv.writer(f)\n",
    "            columnas = [\"class\", \"hand\"]+[f'k{i}{axis}' for i in range(21) for axis in (\"x\", \"y\", \"z\")]\n",
    "            writer.writerow(columnas)\n",
    "            writer.writerow([clase, label, *landmark_list])\n",
    "    return"
   ]
  },
  {
   "cell_type": "code",
   "execution_count": 15,
   "metadata": {},
   "outputs": [],
   "source": [
    "actualPath = os.getcwd()\n",
    "listdir = os.listdir(actualPath)\n",
    "w = walk(actualPath)\n",
    "for (dirpath, dirnames, filenames), i in zip(w, range(0, (len(listdir) + 1))):\n",
    "    for filename in filenames:\n",
    "        vid = cv.VideoCapture(dirpath +\"/\"+filename)\n",
    "        capturar = False\n",
    "        while True:\n",
    "            ret, frame = vid.read()\n",
    "            if not ret:\n",
    "                break\n",
    "            key = cv.waitKey(10)\n",
    "            if key == 27: #ESC\n",
    "                break\n",
    "            frame = cv.flip(frame, 1)\n",
    "            result = hands.process(frame)\n",
    "            if result.multi_hand_landmarks is not None:\n",
    "                for hand_landmarks, handeness in zip(result.multi_hand_landmarks, result.multi_handedness):\n",
    "                    landmark_list = calc_landmark_list(frame, hand_landmarks)\n",
    "                    pre_processed_landmark_list = pre_process_landmark(landmark_list)\n",
    "                    logging_csv(listdir[i-1],filename[:-4], handeness.classification[0].label, i-1, pre_processed_landmark_list)"
   ]
  }
 ],
 "metadata": {
  "kernelspec": {
   "display_name": "env",
   "language": "python",
   "name": "python3"
  },
  "language_info": {
   "codemirror_mode": {
    "name": "ipython",
    "version": 3
   },
   "file_extension": ".py",
   "mimetype": "text/x-python",
   "name": "python",
   "nbconvert_exporter": "python",
   "pygments_lexer": "ipython3",
   "version": "3.11.5"
  }
 },
 "nbformat": 4,
 "nbformat_minor": 2
}
